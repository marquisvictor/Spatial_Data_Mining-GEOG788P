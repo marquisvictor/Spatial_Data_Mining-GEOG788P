{
  "nbformat": 4,
  "nbformat_minor": 0,
  "metadata": {
    "kernelspec": {
      "display_name": "Python 3",
      "language": "python",
      "name": "python3"
    },
    "language_info": {
      "codemirror_mode": {
        "name": "ipython",
        "version": 3
      },
      "file_extension": ".py",
      "mimetype": "text/x-python",
      "name": "python",
      "nbconvert_exporter": "python",
      "pygments_lexer": "ipython3",
      "version": "3.7.9"
    },
    "colab": {
      "provenance": []
    }
  },
  "cells": [
    {
      "cell_type": "code",
      "metadata": {
        "id": "LKW9KL-1qF3M"
      },
      "source": [
        "import numpy as np\n",
        "import pandas as pd\n",
        "import scipy\n",
        "import matplotlib\n",
        "import sklearn\n",
        "import matplotlib.pyplot as plt"
      ],
      "execution_count": null,
      "outputs": []
    },
    {
      "cell_type": "code",
      "metadata": {
        "id": "kMdKbY47qF3O"
      },
      "source": [
        "#customize print options (not needed for your code)\n",
        "np.set_printoptions(precision=2, suppress = True)"
      ],
      "execution_count": null,
      "outputs": []
    },
    {
      "cell_type": "markdown",
      "metadata": {
        "id": "_GYCchqxdFPL"
      },
      "source": [
        "### Dataset 1: Diabetes data (regression)"
      ]
    },
    {
      "cell_type": "code",
      "metadata": {
        "id": "Mav-E3HMdE0a",
        "colab": {
          "base_uri": "https://localhost:8080/"
        },
        "outputId": "f2f21fae-70b3-4162-d4f1-c239d53f6d41"
      },
      "source": [
        "from sklearn.datasets import load_diabetes\n",
        "# https://scikit-learn.org/stable/datasets/toy_dataset.html#diabetes-dataset\n",
        "\n",
        "diabetes = load_diabetes()\n",
        "diabetes.keys()"
      ],
      "execution_count": null,
      "outputs": [
        {
          "output_type": "execute_result",
          "data": {
            "text/plain": [
              "dict_keys(['data', 'target', 'frame', 'DESCR', 'feature_names', 'data_filename', 'target_filename', 'data_module'])"
            ]
          },
          "metadata": {},
          "execution_count": 3
        }
      ]
    },
    {
      "cell_type": "code",
      "metadata": {
        "id": "7PQN1FwudNlf",
        "colab": {
          "base_uri": "https://localhost:8080/"
        },
        "outputId": "6a54418b-7d59-4128-e3ed-dfb1fe9a472f"
      },
      "source": [
        "diabetes['feature_names']"
      ],
      "execution_count": null,
      "outputs": [
        {
          "output_type": "execute_result",
          "data": {
            "text/plain": [
              "['age', 'sex', 'bmi', 'bp', 's1', 's2', 's3', 's4', 's5', 's6']"
            ]
          },
          "metadata": {},
          "execution_count": 4
        }
      ]
    },
    {
      "cell_type": "code",
      "source": [
        "diabetes.data"
      ],
      "metadata": {
        "colab": {
          "base_uri": "https://localhost:8080/"
        },
        "id": "odz0S54D7oaY",
        "outputId": "8415b5cb-b144-4193-ad9e-e31b2ca96796"
      },
      "execution_count": null,
      "outputs": [
        {
          "output_type": "execute_result",
          "data": {
            "text/plain": [
              "array([[ 0.04,  0.05,  0.06, ..., -0.  ,  0.02, -0.02],\n",
              "       [-0.  , -0.04, -0.05, ..., -0.04, -0.07, -0.09],\n",
              "       [ 0.09,  0.05,  0.04, ..., -0.  ,  0.  , -0.03],\n",
              "       ...,\n",
              "       [ 0.04,  0.05, -0.02, ..., -0.01, -0.05,  0.02],\n",
              "       [-0.05, -0.04,  0.04, ...,  0.03,  0.04, -0.03],\n",
              "       [-0.05, -0.04, -0.07, ..., -0.04, -0.  ,  0.  ]])"
            ]
          },
          "metadata": {},
          "execution_count": 6
        }
      ]
    },
    {
      "cell_type": "code",
      "source": [
        "diabetes.target"
      ],
      "metadata": {
        "colab": {
          "base_uri": "https://localhost:8080/"
        },
        "id": "a-2gAFwx7lFQ",
        "outputId": "8efc8a93-c06b-4ce8-a73c-255b6a352d5f"
      },
      "execution_count": null,
      "outputs": [
        {
          "output_type": "execute_result",
          "data": {
            "text/plain": [
              "array([151.,  75., 141., 206., 135.,  97., 138.,  63., 110., 310., 101.,\n",
              "        69., 179., 185., 118., 171., 166., 144.,  97., 168.,  68.,  49.,\n",
              "        68., 245., 184., 202., 137.,  85., 131., 283., 129.,  59., 341.,\n",
              "        87.,  65., 102., 265., 276., 252.,  90., 100.,  55.,  61.,  92.,\n",
              "       259.,  53., 190., 142.,  75., 142., 155., 225.,  59., 104., 182.,\n",
              "       128.,  52.,  37., 170., 170.,  61., 144.,  52., 128.,  71., 163.,\n",
              "       150.,  97., 160., 178.,  48., 270., 202., 111.,  85.,  42., 170.,\n",
              "       200., 252., 113., 143.,  51.,  52., 210.,  65., 141.,  55., 134.,\n",
              "        42., 111.,  98., 164.,  48.,  96.,  90., 162., 150., 279.,  92.,\n",
              "        83., 128., 102., 302., 198.,  95.,  53., 134., 144., 232.,  81.,\n",
              "       104.,  59., 246., 297., 258., 229., 275., 281., 179., 200., 200.,\n",
              "       173., 180.,  84., 121., 161.,  99., 109., 115., 268., 274., 158.,\n",
              "       107.,  83., 103., 272.,  85., 280., 336., 281., 118., 317., 235.,\n",
              "        60., 174., 259., 178., 128.,  96., 126., 288.,  88., 292.,  71.,\n",
              "       197., 186.,  25.,  84.,  96., 195.,  53., 217., 172., 131., 214.,\n",
              "        59.,  70., 220., 268., 152.,  47.,  74., 295., 101., 151., 127.,\n",
              "       237., 225.,  81., 151., 107.,  64., 138., 185., 265., 101., 137.,\n",
              "       143., 141.,  79., 292., 178.,  91., 116.,  86., 122.,  72., 129.,\n",
              "       142.,  90., 158.,  39., 196., 222., 277.,  99., 196., 202., 155.,\n",
              "        77., 191.,  70.,  73.,  49.,  65., 263., 248., 296., 214., 185.,\n",
              "        78.,  93., 252., 150.,  77., 208.,  77., 108., 160.,  53., 220.,\n",
              "       154., 259.,  90., 246., 124.,  67.,  72., 257., 262., 275., 177.,\n",
              "        71.,  47., 187., 125.,  78.,  51., 258., 215., 303., 243.,  91.,\n",
              "       150., 310., 153., 346.,  63.,  89.,  50.,  39., 103., 308., 116.,\n",
              "       145.,  74.,  45., 115., 264.,  87., 202., 127., 182., 241.,  66.,\n",
              "        94., 283.,  64., 102., 200., 265.,  94., 230., 181., 156., 233.,\n",
              "        60., 219.,  80.,  68., 332., 248.,  84., 200.,  55.,  85.,  89.,\n",
              "        31., 129.,  83., 275.,  65., 198., 236., 253., 124.,  44., 172.,\n",
              "       114., 142., 109., 180., 144., 163., 147.,  97., 220., 190., 109.,\n",
              "       191., 122., 230., 242., 248., 249., 192., 131., 237.,  78., 135.,\n",
              "       244., 199., 270., 164.,  72.,  96., 306.,  91., 214.,  95., 216.,\n",
              "       263., 178., 113., 200., 139., 139.,  88., 148.,  88., 243.,  71.,\n",
              "        77., 109., 272.,  60.,  54., 221.,  90., 311., 281., 182., 321.,\n",
              "        58., 262., 206., 233., 242., 123., 167.,  63., 197.,  71., 168.,\n",
              "       140., 217., 121., 235., 245.,  40.,  52., 104., 132.,  88.,  69.,\n",
              "       219.,  72., 201., 110.,  51., 277.,  63., 118.,  69., 273., 258.,\n",
              "        43., 198., 242., 232., 175.,  93., 168., 275., 293., 281.,  72.,\n",
              "       140., 189., 181., 209., 136., 261., 113., 131., 174., 257.,  55.,\n",
              "        84.,  42., 146., 212., 233.,  91., 111., 152., 120.,  67., 310.,\n",
              "        94., 183.,  66., 173.,  72.,  49.,  64.,  48., 178., 104., 132.,\n",
              "       220.,  57.])"
            ]
          },
          "metadata": {},
          "execution_count": 8
        }
      ]
    },
    {
      "cell_type": "code",
      "source": [
        "diabetes.data.shape"
      ],
      "metadata": {
        "colab": {
          "base_uri": "https://localhost:8080/"
        },
        "id": "Su_rTJhh8E2f",
        "outputId": "dd89c596-2b06-417a-9c9c-a4f4150b2131"
      },
      "execution_count": null,
      "outputs": [
        {
          "output_type": "execute_result",
          "data": {
            "text/plain": [
              "(442, 10)"
            ]
          },
          "metadata": {},
          "execution_count": 10
        }
      ]
    },
    {
      "cell_type": "code",
      "metadata": {
        "id": "XhxjjbxddPVV",
        "colab": {
          "base_uri": "https://localhost:8080/"
        },
        "outputId": "02c03fbe-47ab-4528-92eb-e889220f6750"
      },
      "source": [
        "n_samples, n_features = diabetes.data.shape\n",
        "print((n_samples, n_features))"
      ],
      "execution_count": null,
      "outputs": [
        {
          "output_type": "stream",
          "name": "stdout",
          "text": [
            "(442, 10)\n"
          ]
        }
      ]
    },
    {
      "cell_type": "code",
      "metadata": {
        "id": "IZWhfDFkdX_L",
        "colab": {
          "base_uri": "https://localhost:8080/"
        },
        "outputId": "dbcdfa1d-2fd6-45bc-d936-b9c4bb2780dc"
      },
      "source": [
        "# diabetes.data[0]\n",
        "diabetes.target[0]"
      ],
      "execution_count": null,
      "outputs": [
        {
          "output_type": "execute_result",
          "data": {
            "text/plain": [
              "151.0"
            ]
          },
          "metadata": {},
          "execution_count": 14
        }
      ]
    },
    {
      "cell_type": "code",
      "metadata": {
        "id": "mgdkyZx8dSO3",
        "colab": {
          "base_uri": "https://localhost:8080/"
        },
        "outputId": "81de0a41-288d-4c1c-8e71-ea99b2a82c9a"
      },
      "source": [
        "from sklearn.model_selection import train_test_split\n",
        "Xtrain, Xtest, ytrain, ytest = train_test_split(diabetes.data,diabetes.target,test_size=0.4, random_state=5)\n",
        "print(Xtrain.shape, Xtest.shape)"
      ],
      "execution_count": null,
      "outputs": [
        {
          "output_type": "stream",
          "name": "stdout",
          "text": [
            "(265, 10) (177, 10)\n"
          ]
        }
      ]
    },
    {
      "cell_type": "code",
      "metadata": {
        "id": "m0i3boteePqW",
        "colab": {
          "base_uri": "https://localhost:8080/"
        },
        "outputId": "c7c98a9a-280f-42f5-9fd2-efe7b88b7ee1"
      },
      "source": [
        "from sklearn.linear_model import LinearRegression\n",
        "\n",
        "reg = LinearRegression(fit_intercept=False)#fit_intercept=True\n",
        "reg.fit(Xtrain, ytrain)\n"
      ],
      "execution_count": null,
      "outputs": [
        {
          "output_type": "execute_result",
          "data": {
            "text/plain": [
              "LinearRegression(fit_intercept=False)"
            ]
          },
          "metadata": {},
          "execution_count": 46
        }
      ]
    },
    {
      "cell_type": "code",
      "metadata": {
        "id": "SfslZllagkiG",
        "colab": {
          "base_uri": "https://localhost:8080/"
        },
        "outputId": "4de8fe66-00ae-49fd-bb42-7d3b2d23407d"
      },
      "source": [
        "reg.coef_"
      ],
      "execution_count": null,
      "outputs": [
        {
          "output_type": "execute_result",
          "data": {
            "text/plain": [
              "array([  406.22,  -658.35,   537.99,   516.11,  1018.77,  -536.86,\n",
              "       -1304.01,  -787.4 ,   -62.21,  -152.56])"
            ]
          },
          "metadata": {},
          "execution_count": 47
        }
      ]
    },
    {
      "cell_type": "code",
      "metadata": {
        "id": "P7UAaPDMgl_D"
      },
      "source": [
        "y_pred_train = reg.predict(Xtrain)\n",
        "y_pred = reg.predict(Xtest)"
      ],
      "execution_count": null,
      "outputs": []
    },
    {
      "cell_type": "code",
      "metadata": {
        "id": "N3b3M-vKgnu6"
      },
      "source": [
        "'''\n",
        "np.matmul(diff, diff)/diff.shape[0]\n",
        "y_pred.shape\n",
        "diff = ytest - y_pred\n",
        "np.mean(diff * diff)\n",
        "diff_vec = diff.reshape([-1,1])\n",
        "np.matmul(diff_vec.T, diff_vec)\n",
        "diff_vec.T @ diff_vec\n",
        "np.mean(abs(diff))\n",
        "'''\n"
      ],
      "execution_count": null,
      "outputs": []
    },
    {
      "cell_type": "markdown",
      "metadata": {
        "id": "gT2-9IjigsHI"
      },
      "source": [
        "### Matrix operations in numpy"
      ]
    },
    {
      "cell_type": "markdown",
      "source": [
        "* Always check the shape!\n",
        "* Reshape\n",
        "* Transpose"
      ],
      "metadata": {
        "id": "yFArxroM6Usb"
      }
    },
    {
      "cell_type": "code",
      "source": [
        "print(y_pred.shape)\n",
        "print(ytest.shape)"
      ],
      "metadata": {
        "colab": {
          "base_uri": "https://localhost:8080/"
        },
        "id": "vLHKMPUa6ssP",
        "outputId": "3029d5e2-a88a-4857-d0ed-b9068ddcbbd0"
      },
      "execution_count": null,
      "outputs": [
        {
          "output_type": "stream",
          "name": "stdout",
          "text": [
            "(177,)\n",
            "(177,)\n"
          ]
        }
      ]
    },
    {
      "cell_type": "code",
      "source": [
        "diff = ytest - y_pred\n",
        "diff.shape"
      ],
      "metadata": {
        "colab": {
          "base_uri": "https://localhost:8080/"
        },
        "id": "CGBxgDU364w7",
        "outputId": "2679d723-6254-440f-8601-59b868b3404c"
      },
      "execution_count": null,
      "outputs": [
        {
          "output_type": "execute_result",
          "data": {
            "text/plain": [
              "(177,)"
            ]
          },
          "metadata": {},
          "execution_count": 23
        }
      ]
    },
    {
      "cell_type": "code",
      "source": [
        "# ytrain - y_pred"
      ],
      "metadata": {
        "id": "1f9TB-ETM56x"
      },
      "execution_count": null,
      "outputs": []
    },
    {
      "cell_type": "code",
      "source": [
        "diff.T.shape"
      ],
      "metadata": {
        "colab": {
          "base_uri": "https://localhost:8080/"
        },
        "id": "iHvppKjM7MfG",
        "outputId": "a7fbd353-5dfc-48b9-8ee8-d5614086ab6d"
      },
      "execution_count": null,
      "outputs": [
        {
          "output_type": "execute_result",
          "data": {
            "text/plain": [
              "(177,)"
            ]
          },
          "metadata": {},
          "execution_count": 24
        }
      ]
    },
    {
      "cell_type": "code",
      "source": [
        "# diff = diff.reshape([177,1])\n",
        "diff = diff.reshape([-1,1])"
      ],
      "metadata": {
        "id": "KKSQqNXA7Ovn"
      },
      "execution_count": null,
      "outputs": []
    },
    {
      "cell_type": "code",
      "source": [
        "# print(diff.shape)\n",
        "print(diff.T.shape)\n",
        "# np.transpose(diff).shape"
      ],
      "metadata": {
        "colab": {
          "base_uri": "https://localhost:8080/"
        },
        "id": "or0loD7L7din",
        "outputId": "c64b00eb-b20a-4c70-a942-f51ace2bcaae"
      },
      "execution_count": null,
      "outputs": [
        {
          "output_type": "execute_result",
          "data": {
            "text/plain": [
              "(1, 177)"
            ]
          },
          "metadata": {},
          "execution_count": 32
        }
      ]
    },
    {
      "cell_type": "markdown",
      "source": [
        "* Matrix multiplication\n",
        "* Element-wise calculations"
      ],
      "metadata": {
        "id": "u2taSWZw6YqC"
      }
    },
    {
      "cell_type": "code",
      "source": [
        "# np.matmul(diff.T, diff)\n",
        "diff.T @ diff\n",
        "\n",
        "# np.matmul(diff, diff)"
      ],
      "metadata": {
        "colab": {
          "base_uri": "https://localhost:8080/"
        },
        "id": "CHgqKFok7k_o",
        "outputId": "8052899e-9e5f-4de4-b065-070a65296f9d"
      },
      "execution_count": null,
      "outputs": [
        {
          "output_type": "execute_result",
          "data": {
            "text/plain": [
              "array([[540355.03]])"
            ]
          },
          "metadata": {},
          "execution_count": 39
        }
      ]
    },
    {
      "cell_type": "code",
      "source": [
        "np.sqrt((diff.T @ diff)/diff.shape[0]) "
      ],
      "metadata": {
        "colab": {
          "base_uri": "https://localhost:8080/"
        },
        "id": "yPGvDZuP-WSE",
        "outputId": "8bc09c6f-94d7-46b4-e9fd-83a4b6705f77"
      },
      "execution_count": null,
      "outputs": [
        {
          "output_type": "execute_result",
          "data": {
            "text/plain": [
              "array([[55.25]])"
            ]
          },
          "metadata": {},
          "execution_count": 40
        }
      ]
    },
    {
      "cell_type": "code",
      "source": [
        "# relative error\n",
        "np.abs(diff)/ytest"
      ],
      "metadata": {
        "id": "caRJzw0NDjow",
        "colab": {
          "base_uri": "https://localhost:8080/"
        },
        "outputId": "3341e1df-310c-4673-eef8-87f89f859d97"
      },
      "execution_count": null,
      "outputs": [
        {
          "output_type": "execute_result",
          "data": {
            "text/plain": [
              "array([[0.3 , 0.26, 0.48, ..., 0.38, 1.18, 1.1 ],\n",
              "       [0.4 , 0.34, 0.64, ..., 0.5 , 1.57, 1.47],\n",
              "       [0.18, 0.15, 0.29, ..., 0.23, 0.71, 0.67],\n",
              "       ...,\n",
              "       [0.2 , 0.17, 0.32, ..., 0.26, 0.8 , 0.75],\n",
              "       [0.03, 0.03, 0.05, ..., 0.04, 0.12, 0.11],\n",
              "       [0.  , 0.  , 0.  , ..., 0.  , 0.01, 0.01]])"
            ]
          },
          "metadata": {},
          "execution_count": 41
        }
      ]
    },
    {
      "cell_type": "code",
      "source": [
        "#element-wise multiplication\n",
        "# diff * diff\n",
        "# diff + diff"
      ],
      "metadata": {
        "id": "hbDk6ypn8r6u"
      },
      "execution_count": null,
      "outputs": []
    },
    {
      "cell_type": "code",
      "metadata": {
        "id": "ukmgbdDCgvd4",
        "colab": {
          "base_uri": "https://localhost:8080/"
        },
        "outputId": "48b883e8-da25-4551-f664-95d513674b65"
      },
      "source": [
        "#transpose\n",
        "\n",
        "#inverse (import the inverse function from numpy)\n",
        "from numpy.linalg import inv\n",
        "\n",
        "#a random 3x3 matrix\n",
        "example = np.random.random([3,3])\n",
        "example_inv = inv(example)\n",
        "example @ example_inv"
      ],
      "execution_count": null,
      "outputs": [
        {
          "output_type": "execute_result",
          "data": {
            "text/plain": [
              "array([[ 1., -0.,  0.],\n",
              "       [-0.,  1., -0.],\n",
              "       [ 0., -0.,  1.]])"
            ]
          },
          "metadata": {},
          "execution_count": 45
        }
      ]
    },
    {
      "cell_type": "markdown",
      "metadata": {
        "id": "AWIVLTeXdJMu"
      },
      "source": [
        "### Dataset 2: Digits data (classification)"
      ]
    },
    {
      "cell_type": "code",
      "metadata": {
        "id": "SwTc7Hw1qF3O"
      },
      "source": [
        "from sklearn.datasets import load_digits\n",
        "digits = load_digits()\n",
        "digits.keys()"
      ],
      "execution_count": null,
      "outputs": []
    },
    {
      "cell_type": "code",
      "metadata": {
        "id": "mViQTJyyqF3P"
      },
      "source": [
        "from sklearn.model_selection import train_test_split\n",
        "Xtrain, Xtest, ytrain, ytest = train_test_split(digits.data,digits.target,test_size=0.4, random_state=5)\n",
        "print(Xtrain.shape, Xtest.shape)"
      ],
      "execution_count": null,
      "outputs": []
    },
    {
      "cell_type": "code",
      "metadata": {
        "scrolled": true,
        "id": "AWxe86PLqF3P"
      },
      "source": [
        "# The images themselves\n",
        "print(digits.images.shape)\n",
        "print(digits.images[0])"
      ],
      "execution_count": null,
      "outputs": []
    },
    {
      "cell_type": "code",
      "metadata": {
        "id": "ZZgvGJUAuAqK"
      },
      "source": [
        "plt.imshow(digits.images[0]);"
      ],
      "execution_count": null,
      "outputs": []
    },
    {
      "cell_type": "code",
      "metadata": {
        "id": "cf_dw2u6yMyk"
      },
      "source": [],
      "execution_count": null,
      "outputs": []
    },
    {
      "cell_type": "code",
      "metadata": {
        "id": "ZR7ZYJ3IqF3Q"
      },
      "source": [
        "from sklearn.linear_model import LogisticRegression\n",
        "myLR = LogisticRegression()#penalty='l2'\n",
        "myLR.fit(Xtrain, ytrain)"
      ],
      "execution_count": null,
      "outputs": []
    },
    {
      "cell_type": "code",
      "metadata": {
        "id": "6QkjqqeHioht"
      },
      "source": [
        "ypred = myLR.predict(Xtest)"
      ],
      "execution_count": null,
      "outputs": []
    },
    {
      "cell_type": "code",
      "metadata": {
        "id": "q0mf_zWjqF3R"
      },
      "source": [
        "from sklearn.metrics import accuracy_score\n",
        "accuracy_score(ytest, ypred)"
      ],
      "execution_count": null,
      "outputs": []
    },
    {
      "cell_type": "code",
      "metadata": {
        "id": "OGgKOvKnjBrb"
      },
      "source": [
        "from sklearn import tree\n",
        "myDT = tree.DecisionTreeClassifier(criterion = 'entropy', max_depth = 10)\n",
        "myDT.fit(Xtrain, ytrain)\n",
        "\n",
        "#check results on training data\n",
        "ypred_train = myDT.predict(Xtrain)\n",
        "\n",
        "#check results on test data\n",
        "ypred = myDT.predict(Xtest)\n",
        "\n",
        "print('training accuracy: ', accuracy_score(ytrain, ypred_train))\n",
        "print('test accuracy: ', accuracy_score(ytest, ypred))"
      ],
      "execution_count": null,
      "outputs": []
    },
    {
      "cell_type": "code",
      "metadata": {
        "id": "2kQ7O5AzsFCT"
      },
      "source": [
        "from sklearn.ensemble import RandomForestClassifier\n",
        "#https://scikit-learn.org/stable/modules/generated/sklearn.ensemble.RandomForestClassifier.html\n",
        "\n",
        "'''\n",
        "Some parameters we mentioned in class:\n",
        "- n_estimators\n",
        "- max_depth\n",
        "- criterion{“gini”, “entropy”}\n",
        "- max_features{“auto”, “sqrt”, “log2”}\n",
        "'''\n",
        "\n",
        "# myRF = RandomForestClassifier(n_estimators=100, max_depth=10, max_features = 'sqrt', random_state=0)\n",
        "myRF = RandomForestClassifier(n_estimators=100, max_features = 'sqrt', random_state=0)\n",
        "\n",
        "#Train the model\n",
        "myRF.fit(Xtrain,ytrain)\n",
        "\n",
        "#check results on training data\n",
        "ypred_train = myRF.predict(Xtrain)\n",
        "\n",
        "#check results on test data\n",
        "ypred = myRF.predict(Xtest)\n",
        "\n",
        "print('training accuracy: ', accuracy_score(ytrain, ypred_train))\n",
        "print('test accuracy: ', accuracy_score(ytest, ypred))"
      ],
      "execution_count": null,
      "outputs": []
    },
    {
      "cell_type": "code",
      "metadata": {
        "id": "lMCfTZdcqF3R"
      },
      "source": [
        "from sklearn.metrics import confusion_matrix\n",
        "print(confusion_matrix(ytest, ypred))"
      ],
      "execution_count": null,
      "outputs": []
    },
    {
      "cell_type": "code",
      "source": [
        "from sklearn.neighbors import KNeighborsClassifier#KNeighborsRegressor#KNeighborsClassifier\n",
        "neigh = KNeighborsClassifier(n_neighbors=50)\n",
        "neigh.fit(Xtrain, ytrain)#Xtrain, Xtest, ytrain, ytest"
      ],
      "metadata": {
        "id": "HCw6XXCBPcX8"
      },
      "execution_count": null,
      "outputs": []
    },
    {
      "cell_type": "code",
      "source": [
        "ypred_train = neigh.predict(Xtrain)\n",
        "ypred = neigh.predict(Xtest)"
      ],
      "metadata": {
        "id": "i1xbCDkQQjYV"
      },
      "execution_count": null,
      "outputs": []
    },
    {
      "cell_type": "code",
      "source": [
        "print('training accuracy: ', accuracy_score(ytrain, ypred_train))\n",
        "print('test accuracy: ', accuracy_score(ytest, ypred))"
      ],
      "metadata": {
        "id": "uZ6OGMLyQbcQ"
      },
      "execution_count": null,
      "outputs": []
    },
    {
      "cell_type": "code",
      "metadata": {
        "id": "leCeKTRcqF3R"
      },
      "source": [
        "plt.imshow(np.log(confusion_matrix(ytest, ypred)+1),\n",
        "           cmap='Blues', interpolation='nearest')\n",
        "plt.grid(False)\n",
        "plt.ylabel('true')\n",
        "plt.xlabel('predicted');"
      ],
      "execution_count": null,
      "outputs": []
    },
    {
      "cell_type": "markdown",
      "metadata": {
        "id": "hC24vPtfjKaY"
      },
      "source": [
        "Visualization (not required)"
      ]
    },
    {
      "cell_type": "code",
      "metadata": {
        "id": "K0NkFUoEjUP9"
      },
      "source": [
        "fig, axes = plt.subplots(10, 10, figsize=(8, 8))\n",
        "fig.subplots_adjust(hspace=0.1, wspace=0.1)\n",
        "\n",
        "for i, ax in enumerate(axes.flat):\n",
        "    ax.imshow(Xtest[i].reshape(8, 8), cmap='binary')\n",
        "    ax.set_xticks([])\n",
        "    ax.set_yticks([])"
      ],
      "execution_count": null,
      "outputs": []
    },
    {
      "cell_type": "code",
      "metadata": {
        "id": "neye8uIVqF3S"
      },
      "source": [
        "fig, axes = plt.subplots(10, 10, figsize=(8, 8))\n",
        "fig.subplots_adjust(hspace=0.1, wspace=0.1)\n",
        "\n",
        "for i, ax in enumerate(axes.flat):\n",
        "    ax.imshow(Xtest[i].reshape(8, 8), cmap='binary')\n",
        "    ax.text(0.05, 0.05, str(ypred[i]),\n",
        "            transform=ax.transAxes,\n",
        "            color='green' if (ytest[i] == ypred[i]) else 'red')\n",
        "    ax.set_xticks([])\n",
        "    ax.set_yticks([])"
      ],
      "execution_count": null,
      "outputs": []
    },
    {
      "cell_type": "code",
      "metadata": {
        "id": "N9qHBIAaqF3T"
      },
      "source": [],
      "execution_count": null,
      "outputs": []
    },
    {
      "cell_type": "code",
      "metadata": {
        "id": "6kykvUExxOWo"
      },
      "source": [
        "\n"
      ],
      "execution_count": null,
      "outputs": []
    }
  ]
}