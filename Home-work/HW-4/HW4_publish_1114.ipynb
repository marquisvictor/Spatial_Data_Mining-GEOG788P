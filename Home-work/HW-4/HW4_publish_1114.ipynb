{
  "nbformat": 4,
  "nbformat_minor": 0,
  "metadata": {
    "kernelspec": {
      "display_name": "Python 3",
      "language": "python",
      "name": "python3"
    },
    "language_info": {
      "codemirror_mode": {
        "name": "ipython",
        "version": 3
      },
      "file_extension": ".py",
      "mimetype": "text/x-python",
      "name": "python",
      "nbconvert_exporter": "python",
      "pygments_lexer": "ipython3",
      "version": "3.7.9"
    },
    "colab": {
      "provenance": [],
      "collapsed_sections": []
    }
  },
  "cells": [
    {
      "cell_type": "markdown",
      "metadata": {
        "id": "R2c4QldbqF3J"
      },
      "source": [
        "<h3>HW4: Machine Learning</h3>"
      ]
    },
    {
      "cell_type": "code",
      "metadata": {
        "id": "LKW9KL-1qF3M"
      },
      "source": [
        "import numpy as np\n",
        "import pandas as pd\n",
        "import scipy\n",
        "import matplotlib\n",
        "import sklearn\n",
        "import matplotlib.pyplot as plt"
      ],
      "execution_count": null,
      "outputs": []
    },
    {
      "cell_type": "markdown",
      "metadata": {
        "id": "ZNCUDxX1Q4m9"
      },
      "source": [
        "Problem 3.1 (1) and (2)"
      ]
    },
    {
      "cell_type": "markdown",
      "source": [
        "Look at the example provided! If you run into any error messages, compare your code and the example to see if there is any difference.\n",
        "* Note that the .reshape() function is used to change the shape from 1D to 2D with rows and columns\n",
        "* In the 2D (matrix) form, there is only one column in this case (only a single attribute)\n",
        "* Computationally, a vector and a matrix can be treated differently in numpy. To make these consistent, we explicitly use the matrix form."
      ],
      "metadata": {
        "id": "KjM1HhPkKs9Z"
      }
    },
    {
      "cell_type": "code",
      "metadata": {
        "id": "srz8BtyzSV97"
      },
      "source": [
        "#create numpy arrays to store data from homework question\n",
        "X = np.asarray(['replace this string by the numbers']).reshape([-1,1])#example: X = np.asarray([1,2,3,4]).reshape([-1,1])\n",
        "y = np.asarray(['replace this string by the numbers']).reshape([-1,1])"
      ],
      "execution_count": null,
      "outputs": []
    },
    {
      "cell_type": "code",
      "metadata": {
        "id": "snKgjkCASWQk"
      },
      "source": [
        "#write the w solution for linear regression (simply write out the provided solution in numpy form)\n",
        "#hint: all the needed matrix operations (e.g., transpose, multiplication, inversion) are included in the in-class demo code\n",
        "#if you have questions regarding basic python operations, stop by office hours\n",
        "\n",
        "#import the inv function (demo-ed in class) so that you can use it in your own code\n",
        "from numpy.linalg import inv\n",
        "\n",
        "def LR_solver(X,y):\n",
        "  w = #put your code here as a single line\n",
        "  return w"
      ],
      "execution_count": null,
      "outputs": []
    },
    {
      "cell_type": "code",
      "metadata": {
        "id": "WS5z8p6pUhyh"
      },
      "source": [
        "#call your solver here to get the solution and print it\n",
        "w = LR_solver(X,y)\n",
        "print(w)"
      ],
      "execution_count": null,
      "outputs": []
    },
    {
      "cell_type": "markdown",
      "metadata": {
        "id": "Voiz7iWWU31Q"
      },
      "source": [
        "Problem 3.1 (3) and (4)"
      ]
    },
    {
      "cell_type": "code",
      "metadata": {
        "id": "SwTc7Hw1qF3O"
      },
      "source": [
        "#code for loading diabetes data\n",
        "\n",
        "from sklearn.datasets import load_diabetes\n",
        "# description: https://scikit-learn.org/stable/datasets/toy_dataset.html#diabetes-dataset\n",
        "\n",
        "diabetes = load_diabetes()\n",
        "print(diabetes.keys())\n",
        "print(diabetes['feature_names'])"
      ],
      "execution_count": null,
      "outputs": []
    },
    {
      "cell_type": "code",
      "metadata": {
        "id": "V5gnQF42Rf9c"
      },
      "source": [
        "#show number of samples and features\n",
        "n_samples, n_features = diabetes.data.shape\n",
        "print((n_samples, n_features))"
      ],
      "execution_count": null,
      "outputs": []
    },
    {
      "cell_type": "code",
      "metadata": {
        "id": "sGJw3MhIRww-"
      },
      "source": [
        "#split the data into training and test data (you can ignore validation data for this part of the homework)\n",
        "from sklearn.model_selection import train_test_split\n",
        "Xtrain, Xtest, ytrain, ytest = train_test_split(diabetes.data,diabetes.target,test_size=0.4, random_state=5)\n",
        "print(Xtrain.shape, Xtest.shape)"
      ],
      "execution_count": null,
      "outputs": []
    },
    {
      "cell_type": "code",
      "metadata": {
        "id": "IyDY8sOFVC2k"
      },
      "source": [
        "#for question (3), run your solver to find w\n",
        "w = LR_solver(Xtrain,ytrain)\n",
        "print(w)"
      ],
      "execution_count": null,
      "outputs": []
    },
    {
      "cell_type": "code",
      "metadata": {
        "id": "WGyW6aTtSMYu"
      },
      "source": [
        "#for question (4), run sklearn's linear regression to find w\n",
        "from sklearn.linear_model import LinearRegression\n",
        "\n",
        "reg = LinearRegression(fit_intercept=False)#keep this setting\n",
        "reg.fit(Xtrain, ytrain)\n",
        "\n",
        "#print w\n",
        "print(reg.coef_)"
      ],
      "execution_count": null,
      "outputs": []
    },
    {
      "cell_type": "markdown",
      "metadata": {
        "id": "3DqGZxA7Q-zb"
      },
      "source": [
        "Problem 3.2"
      ]
    },
    {
      "cell_type": "code",
      "metadata": {
        "id": "iMS3XI-kRGbk"
      },
      "source": [
        "#code for loading digits data\n",
        "\n",
        "from sklearn.datasets import load_digits\n",
        "digits = load_digits()\n",
        "print(digits.keys())\n",
        "print(diabetes['feature_names'])"
      ],
      "execution_count": null,
      "outputs": []
    },
    {
      "cell_type": "code",
      "metadata": {
        "id": "UuZKowAcxuAV"
      },
      "source": [
        "#show number of samples and features\n",
        "n_samples, n_features = digits.data.shape\n",
        "print((n_samples, n_features))"
      ],
      "execution_count": null,
      "outputs": []
    },
    {
      "cell_type": "code",
      "metadata": {
        "id": "mViQTJyyqF3P"
      },
      "source": [
        "#split the data into training and test data (you can ignore validation data for this part of the homework)\n",
        "from sklearn.model_selection import train_test_split\n",
        "Xtrain, Xtest, ytrain, ytest = train_test_split(digits.data,digits.target,test_size=0.4, random_state=5)\n",
        "print(Xtrain.shape, Xtest.shape)"
      ],
      "execution_count": null,
      "outputs": []
    },
    {
      "cell_type": "code",
      "metadata": {
        "id": "q0mf_zWjqF3R"
      },
      "source": [
        "from sklearn.metrics import accuracy_score"
      ],
      "execution_count": null,
      "outputs": []
    },
    {
      "cell_type": "code",
      "metadata": {
        "id": "pAiMUnfQXCfY"
      },
      "source": [
        "#decision tree\n",
        "\n",
        "from sklearn import tree\n",
        "\n",
        "myDT = tree.DecisionTreeClassifier(max_depth = 10, criterion = 'entropy')\n",
        "\n",
        "#Train the model\n",
        "myDT.fit(Xtrain, ytrain)\n",
        "\n",
        "#check results on training data\n",
        "ypred_train = myDT.predict(Xtrain)\n",
        "print('training accuracy: ', accuracy_score(ytrain, ypred_train))\n",
        "\n",
        "#check results on test data\n",
        "ypred = myDT.predict(Xtest)\n",
        "print('test accuracy: ', accuracy_score(ytest, ypred))"
      ],
      "execution_count": null,
      "outputs": []
    },
    {
      "cell_type": "code",
      "metadata": {
        "id": "2kQ7O5AzsFCT"
      },
      "source": [
        "#random forest\n",
        "\n",
        "from sklearn.ensemble import RandomForestClassifier\n",
        "\n",
        "myRF = RandomForestClassifier(max_depth=10, max_features = 8,  random_state=0)\n",
        "\n",
        "#Train the model\n",
        "myRF.fit(Xtrain,ytrain)\n",
        "\n",
        "#check results on training data\n",
        "ypred_train = myRF.predict(Xtrain)\n",
        "print('training accuracy: ', accuracy_score(ytrain, ypred_train))\n",
        "\n",
        "#check results on test data\n",
        "ypred = myRF.predict(Xtest)\n",
        "print('test accuracy: ', accuracy_score(ytest, ypred))"
      ],
      "execution_count": null,
      "outputs": []
    }
  ]
}